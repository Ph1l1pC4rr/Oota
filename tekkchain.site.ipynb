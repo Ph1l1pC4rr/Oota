{
 "cells": [
  {
   "cell_type": "code",
   "execution_count": 1,
   "metadata": {},
   "outputs": [
    {
     "name": "stdout",
     "output_type": "stream",
     "text": [
      "Requirement already satisfied: Flask in c:\\users\\pc5ca\\appdata\\local\\programs\\python\\python311\\lib\\site-packages (2.2.2)\n",
      "Requirement already satisfied: Werkzeug>=2.2.2 in c:\\users\\pc5ca\\appdata\\local\\programs\\python\\python311\\lib\\site-packages (from Flask) (2.2.2)\n",
      "Requirement already satisfied: Jinja2>=3.0 in c:\\users\\pc5ca\\appdata\\local\\programs\\python\\python311\\lib\\site-packages (from Flask) (3.1.2)\n",
      "Requirement already satisfied: itsdangerous>=2.0 in c:\\users\\pc5ca\\appdata\\local\\programs\\python\\python311\\lib\\site-packages (from Flask) (2.1.2)\n",
      "Requirement already satisfied: click>=8.0 in c:\\users\\pc5ca\\appdata\\local\\programs\\python\\python311\\lib\\site-packages (from Flask) (8.1.3)\n",
      "Requirement already satisfied: colorama in c:\\users\\pc5ca\\appdata\\local\\programs\\python\\python311\\lib\\site-packages (from click>=8.0->Flask) (0.4.6)\n",
      "Requirement already satisfied: MarkupSafe>=2.0 in c:\\users\\pc5ca\\appdata\\local\\programs\\python\\python311\\lib\\site-packages (from Jinja2>=3.0->Flask) (2.1.1)\n",
      "Note: you may need to restart the kernel to use updated packages.\n"
     ]
    }
   ],
   "source": [
    "pip install Flask"
   ]
  },
  {
   "cell_type": "code",
   "execution_count": 6,
   "metadata": {},
   "outputs": [
    {
     "name": "stdout",
     "output_type": "stream",
     "text": [
      "Requirement already satisfied: pyparsing in c:\\users\\pc5ca\\appdata\\local\\packages\\pythonsoftwarefoundation.python.3.10_qbz5n2kfra8p0\\localcache\\local-packages\\python310\\site-packages (3.0.9)Note: you may need to restart the kernel to use updated packages.\n",
      "\n"
     ]
    }
   ],
   "source": [
    "pip install pyparsing"
   ]
  },
  {
   "cell_type": "code",
   "execution_count": 7,
   "metadata": {},
   "outputs": [
    {
     "name": "stdout",
     "output_type": "stream",
     "text": [
      "Requirement already satisfied: requests in c:\\users\\pc5ca\\appdata\\local\\packages\\pythonsoftwarefoundation.python.3.10_qbz5n2kfra8p0\\localcache\\local-packages\\python310\\site-packages (2.28.1)\n",
      "Requirement already satisfied: urllib3<1.27,>=1.21.1 in c:\\users\\pc5ca\\appdata\\local\\packages\\pythonsoftwarefoundation.python.3.10_qbz5n2kfra8p0\\localcache\\local-packages\\python310\\site-packages (from requests) (1.26.13)\n",
      "Requirement already satisfied: charset-normalizer<3,>=2 in c:\\users\\pc5ca\\appdata\\local\\packages\\pythonsoftwarefoundation.python.3.10_qbz5n2kfra8p0\\localcache\\local-packages\\python310\\site-packages (from requests) (2.1.1)\n",
      "Requirement already satisfied: certifi>=2017.4.17 in c:\\users\\pc5ca\\appdata\\local\\packages\\pythonsoftwarefoundation.python.3.10_qbz5n2kfra8p0\\localcache\\local-packages\\python310\\site-packages (from requests) (2022.12.7)\n",
      "Requirement already satisfied: idna<4,>=2.5 in c:\\users\\pc5ca\\appdata\\local\\packages\\pythonsoftwarefoundation.python.3.10_qbz5n2kfra8p0\\localcache\\local-packages\\python310\\site-packages (from requests) (3.4)\n",
      "Note: you may need to restart the kernel to use updated packages.\n"
     ]
    }
   ],
   "source": [
    "pip install requests"
   ]
  },
  {
   "cell_type": "code",
   "execution_count": 8,
   "metadata": {},
   "outputs": [
    {
     "ename": "ImportError",
     "evalue": "cannot import name 'parse_query' from 'pyparsing' (C:\\Users\\pc5ca\\AppData\\Local\\Packages\\PythonSoftwareFoundation.Python.3.10_qbz5n2kfra8p0\\LocalCache\\local-packages\\Python310\\site-packages\\pyparsing\\__init__.py)",
     "output_type": "error",
     "traceback": [
      "\u001b[1;31m---------------------------------------------------------------------------\u001b[0m",
      "\u001b[1;31mImportError\u001b[0m                               Traceback (most recent call last)",
      "Cell \u001b[1;32mIn[8], line 9\u001b[0m\n\u001b[0;32m      7\u001b[0m \u001b[39mfrom\u001b[39;00m \u001b[39mtime\u001b[39;00m \u001b[39mimport\u001b[39;00m time\n\u001b[0;32m      8\u001b[0m \u001b[39mfrom\u001b[39;00m \u001b[39muuid\u001b[39;00m \u001b[39mimport\u001b[39;00m uuid4\n\u001b[1;32m----> 9\u001b[0m \u001b[39mfrom\u001b[39;00m \u001b[39mpyparsing\u001b[39;00m \u001b[39mimport\u001b[39;00m parse_query\n\u001b[0;32m     11\u001b[0m \u001b[39mfrom\u001b[39;00m \u001b[39murllib\u001b[39;00m\u001b[39m.\u001b[39;00m\u001b[39mparse\u001b[39;00m \u001b[39mimport\u001b[39;00m urlparse\n\u001b[0;32m     13\u001b[0m \u001b[39m# Class for a block in the blockchain\u001b[39;00m\n",
      "\u001b[1;31mImportError\u001b[0m: cannot import name 'parse_query' from 'pyparsing' (C:\\Users\\pc5ca\\AppData\\Local\\Packages\\PythonSoftwareFoundation.Python.3.10_qbz5n2kfra8p0\\LocalCache\\local-packages\\Python310\\site-packages\\pyparsing\\__init__.py)"
     ]
    }
   ],
   "source": [
    "import hashlib\n",
    "import json\n",
    "import requests\n",
    "import fnmatch\n",
    "import pyparsing\n",
    "\n",
    "from time import time\n",
    "from uuid import uuid4\n",
    "from pyparsing import parse_query\n",
    "\n",
    "from urllib.parse import urlparse\n",
    "\n",
    "# Class for a block in the blockchain\n",
    "class Block:\n",
    "    def __init__(self, index, data, timestamp, previous_hash):\n",
    "        self.index = index\n",
    "        self.data = data\n",
    "        self.timestamp = timestamp\n",
    "        self.previous_hash = previous_hash\n",
    "        self.hash = self.hash_block()\n",
    "\n",
    "    def hash_block(self):\n",
    "        \"\"\"Generate a SHA-256 hash of the block\"\"\"\n",
    "        block_string = json.dumps(self.__dict__, sort_keys=True).encode()\n",
    "        return hashlib.sha256(block_string).hexdigest()\n",
    "\n",
    "# Class for a decentralized search engine using blockchain technology\n",
    "class Tekk:\n",
    "    def __init__(self):\n",
    "        self.current_node_url = \"http://localhost:5000\"\n",
    "        self.chain = []\n",
    "        self.nodes = set()\n",
    "        self.create_genesis_block()\n",
    "\n",
    "    def create_genesis_block(self):\n",
    "        \"\"\"Create the first block in the blockchain\"\"\"\n",
    "        self.create_new_block(0, \"Genesis Block\", \"0\")\n",
    "\n",
    "    def create_new_block(self, index, data, previous_hash):\n",
    "        \"\"\"Create a new block and add it to the chain\"\"\"\n",
    "        block = Block(index, data, time(), previous_hash)\n",
    "        self.chain.append(block)\n",
    "        return block\n",
    "\n",
    "    def create_new_data(self, data):\n",
    "        \"\"\"Create a new piece of data and add it to the blockchain\"\"\"\n",
    "        self.create_new_block(len(self.chain), data, self.chain[-1].hash)\n",
    "\n",
    "    def validate_chain(self):\n",
    "        \"\"\"Verify that the chain is valid\"\"\"\n",
    "        previous_block = self.chain[0]\n",
    "        current_index = 1\n",
    "\n",
    "        while current_index < len(self.chain):\n",
    "            block = self.chain[current_index]\n",
    "            if block.previous_hash != previous_block.hash:\n",
    "                return False\n",
    "            previous_block = block\n",
    "            current_index += 1\n",
    "        return True\n",
    "\n",
    "    def add_node(self, address):\n",
    "        \"\"\"Add a new node to the network\"\"\"\n",
    "        parsed_url = urlparse(address)\n",
    "        self.nodes.add(parsed_url.netloc)\n",
    "\n",
    "    def replace_chain(self):\n",
    "        \"\"\"Replace the current chain with the longest chain in the network\"\"\"\n",
    "        longest_chain = None\n",
    "        max_length = len(self.chain)\n",
    "\n",
    "        for node in self.nodes:\n",
    "            response = requests.get(f\"http://{node}/chain\")\n",
    "            if response.status_code == 200:\n",
    "                length = response.json()[\"length\"]\n",
    "                chain = response.json()[\"chain\"]\n",
    "                if length > max_length and self.validate_chain(chain):\n",
    "                    max_length = length\n",
    "                    longest_chain = chain\n",
    "\n",
    "        if longest_chain:\n",
    "            self.chain = longest_chain\n",
    "            return True\n",
    "        return False\n"
   ]
  },
  {
   "cell_type": "code",
   "execution_count": null,
   "metadata": {},
   "outputs": [],
   "source": [
    "from flask import flask \n",
    "\n",
    "app = Flask (__name__)"
   ]
  },
  {
   "cell_type": "code",
   "execution_count": null,
   "metadata": {},
   "outputs": [],
   "source": [
    "@app.route('/')\n",
    "def home():\n",
    "    return \"Welcome to Tekk.API!\""
   ]
  },
  {
   "cell_type": "code",
   "execution_count": null,
   "metadata": {},
   "outputs": [],
   "source": [
    "if __name__ =='__main__':\n",
    "    app.run()\n",
    "\n",
    "\"\"\"This starts the API on your local machine at the default port (5000).\"\"\"\n"
   ]
  },
  {
   "cell_type": "code",
   "execution_count": null,
   "metadata": {},
   "outputs": [],
   "source": [
    "\"\"\"Routes for API- \n",
    "- Adding data that recieves a POST request to the block chain \n",
    "- Search engine\"\"\""
   ]
  },
  {
   "cell_type": "code",
   "execution_count": null,
   "metadata": {},
   "outputs": [],
   "source": [
    "@app.route('/add_data', methods=['POST'])\n",
    "def add_data():\n",
    "    data = request.get_json()\n",
    "    tekk.create_new_data(data)\n",
    "    response = {'message': 'Data added to the blockchain.'}\n",
    "    return jsonify(response), 201"
   ]
  },
  {
   "cell_type": "code",
   "execution_count": null,
   "metadata": {},
   "outputs": [],
   "source": [
    "@app.route('/search')\n",
    "def search():\n",
    "    query = request.arg.get('q')\n",
    "    results = []\n",
    "    for block in tekk.chain:\n",
    "        if query in block:\n",
    "            results.append(block.data)\n",
    "    return jsonify(results), 200\n",
    "\n",
    "@app.route('/search')\n",
    "\n",
    "def search():\n",
    "        query = request.args.get('q')\n",
    "        parsed_query = parse_query(query)\n",
    "        results = []\n",
    "        for block in tekk.chain:\n",
    "            if parsed_query.evaluate(block.data):\n",
    "                results.append(block.data)\n",
    "    return jsonify(results), 200\n",
    "        \n",
    "        \n",
    "@app.route('/search')\n",
    "def search():\n",
    "    query = request.args.get('q')\n",
    "    keywords = query.split()\n",
    "    results = []\n",
    "    for block in tekk.chain:\n",
    "        for keyword in keywords:\n",
    "            if keyword in block.data:\n",
    "                results.append(block.data)\n",
    "                break\n",
    "    return jsonify(results), 200\n",
    "\n",
    "@app.route('/search')\n",
    "def search():\n",
    "    query = request.args.get('q')\n",
    "    results = []\n",
    "    for block in tekk.chain:\n",
    "        if fnmatch.fnmatch(block.data, query):\n",
    "            results.append(block.data)\n",
    "    return jsonify(results), 200\n",
    "\n"
   ]
  }
 ],
 "metadata": {
  "kernelspec": {
   "display_name": "Python 3 (ipykernel)",
   "language": "python",
   "name": "python3"
  },
  "language_info": {
   "codemirror_mode": {
    "name": "ipython",
    "version": 3
   },
   "file_extension": ".py",
   "mimetype": "text/x-python",
   "name": "python",
   "nbconvert_exporter": "python",
   "pygments_lexer": "ipython3",
   "version": "3.11.1"
  },
  "vscode": {
   "interpreter": {
    "hash": "98ea38f29ff9f5c7a866048e862760a94bb6596766c5ef1290493a0f892aacaa"
   }
  }
 },
 "nbformat": 4,
 "nbformat_minor": 4
}
