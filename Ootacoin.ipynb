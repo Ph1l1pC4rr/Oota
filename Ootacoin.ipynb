{
 "cells": [
  {
   "cell_type": "code",
   "execution_count": 59,
   "metadata": {},
   "outputs": [
    {
     "name": "stdout",
     "output_type": "stream",
     "text": [
      "Name: Tekkcoin\n",
      "Symbol: TK\n",
      "Market Cap: 1000000000\n",
      "Circulating Supply: 100000000\n",
      "Price: 10.0\n",
      "New Price: 20.0\n"
     ]
    }
   ],
   "source": [
    "class Ootacoin: \n",
    "    def __init__(self, name, symbol, market_cap, circulating_supply, price):\n",
    "        self.name = name \n",
    "        self.symbol = symbol\n",
    "        self.market_cap = market_cap\n",
    "        self.circulating_supply = circulating_supply\n",
    "        self.price = price \n",
    "\n",
    "    def get_name(self):\n",
    "        return self.name\n",
    "\n",
    "    def get_symbol(self):\n",
    "        return self.symbol \n",
    "\n",
    "    def get_market_cap(self):\n",
    "        return self.market_cap\n",
    "\n",
    "    def get_circulating_supply(self):\n",
    "        return self.circulating_supply\n",
    "\n",
    "    def get_price(self):\n",
    "        return self.price \n",
    "\n",
    "    def set_price(self, new_price):\n",
    "        self.price = new_price\n",
    "\n",
    "Ootacoin = Ootacoin(\"Ootacoin\", \"OT\", 1000000000, 100000000, 10.0)\n",
    "\n",
    "print(\"Name:\", Ootacoin.get_name())\n",
    "print(\"Symbol:\", Ootacoin.get_symbol())\n",
    "print(\"Market Cap:\", Ootacoin.get_market_cap())\n",
    "print(\"Circulating Supply:\", Ootacoin.get_circulating_supply())\n",
    "print(\"Price:\", Ootacoin.get_price())\n",
    "\n",
    "Ootacoin.set_price(20.0)\n",
    "print(\"New Price:\", Ootacoin.get_price())"
   ]
  },
  {
   "cell_type": "code",
   "execution_count": 60,
   "metadata": {},
   "outputs": [
    {
     "name": "stdout",
     "output_type": "stream",
     "text": [
      "ROI: 100.0\n"
     ]
    }
   ],
   "source": [
    "class Ootacoin: \n",
    "    def __init__(self, name, symbol, market_cap, circulating_supply, price):\n",
    "        self.name = name \n",
    "        self.symbol = symbol\n",
    "        self.market_cap = market_cap\n",
    "        self.circulating_supply = circulating_supply\n",
    "        self.price = price \n",
    "\n",
    "    def get_name(self):\n",
    "        return self.name\n",
    "\n",
    "    def get_symbol(self):\n",
    "        return self.symbol \n",
    "\n",
    "    def get_market_cap(self):\n",
    "        return self.market_cap\n",
    "\n",
    "    def get_circulating_supply(self):\n",
    "        return self.circulating_supply\n",
    "\n",
    "    def get_price(self):\n",
    "        return self.price \n",
    "\n",
    "    def set_price(self, new_price):\n",
    "        self.price = new_price\n",
    "\n",
    "    def calculate_roi(self, previous_price):\n",
    "        \"\"\"Calculate the return on investment (ROI) given a previous price.\n",
    "\n",
    "        Arguments:\n",
    "        previous_price -- the previous price of the Ootacoin\n",
    "\n",
    "        Returns:\n",
    "        The ROI, as a percentage.\n",
    "        \"\"\"\n",
    "        return (self.price - previous_price) / previous_price * 100\n",
    "\n",
    "# Create a Ootacoin object\n",
    "Ootacoin = Ootacoin(\"Ootacoin\", \"OT\", 1000000000, 100000000, 10.0)\n",
    "\n",
    "# Calculate the ROI given a previous price of 5.0\n",
    "roi = Ootacoin.calculate_roi(5.0)\n",
    "print(\"ROI:\", roi)\n"
   ]
  },
  {
   "cell_type": "code",
   "execution_count": 61,
   "metadata": {},
   "outputs": [
    {
     "name": "stdout",
     "output_type": "stream",
     "text": [
      "Circulating supply: 100000000\n"
     ]
    }
   ],
   "source": [
    "circulating_supply = Ootacoin.get_circulating_supply()\n",
    "print(\"Circulating supply:\", circulating_supply)"
   ]
  },
  {
   "cell_type": "code",
   "execution_count": 62,
   "metadata": {},
   "outputs": [],
   "source": [
    "Ootacoin.set_price(12.5)"
   ]
  },
  {
   "cell_type": "code",
   "execution_count": 63,
   "metadata": {},
   "outputs": [
    {
     "name": "stdout",
     "output_type": "stream",
     "text": [
      "ROI: 150.0\n"
     ]
    }
   ],
   "source": [
    "roi = Ootacoin.calculate_roi(5.0)\n",
    "print(\"ROI:\", roi)"
   ]
  },
  {
   "cell_type": "code",
   "execution_count": null,
   "metadata": {},
   "outputs": [],
   "source": []
  }
 ],
 "metadata": {
  "kernelspec": {
   "display_name": "Python 3",
   "language": "python",
   "name": "python3"
  },
  "language_info": {
   "codemirror_mode": {
    "name": "ipython",
    "version": 3
   },
   "file_extension": ".py",
   "mimetype": "text/x-python",
   "name": "python",
   "nbconvert_exporter": "python",
   "pygments_lexer": "ipython3",
   "version": "3.10.9 (tags/v3.10.9:1dd9be6, Dec  6 2022, 20:01:21) [MSC v.1934 64 bit (AMD64)]"
  },
  "orig_nbformat": 4,
  "vscode": {
   "interpreter": {
    "hash": "98ea38f29ff9f5c7a866048e862760a94bb6596766c5ef1290493a0f892aacaa"
   }
  }
 },
 "nbformat": 4,
 "nbformat_minor": 2
}
